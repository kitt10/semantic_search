{
  "cells": [
    {
      "cell_type": "markdown",
      "metadata": {
        "id": "view-in-github",
        "colab_type": "text"
      },
      "source": [
        "<a href=\"https://colab.research.google.com/github/kitt10/semantic_search/blob/main/aq_example.ipynb\" target=\"_parent\"><img src=\"https://colab.research.google.com/assets/colab-badge.svg\" alt=\"Open In Colab\"/></a>"
      ]
    },
    {
      "cell_type": "code",
      "execution_count": null,
      "metadata": {
        "id": "ikKpBRH-qljh"
      },
      "outputs": [],
      "source": [
        "from models import AQModel\n",
        "\n",
        "aq = AQModel()"
      ]
    },
    {
      "cell_type": "code",
      "execution_count": null,
      "metadata": {
        "id": "WcHqMGt-qljj",
        "outputId": "6bb11ba1-dc2f-48a9-bebb-8ae921376f0c"
      },
      "outputs": [
        {
          "name": "stdout",
          "output_type": "stream",
          "text": [
            "Q: How long did Joe Franklin's program run on local television?\n",
            "A: 43 years\n"
          ]
        }
      ],
      "source": [
        "context = \"\"\"\n",
        "    His name is Joe Franklin, and his program ran for 43 years on local \n",
        "    television in New York. And he claims that he invented the talk show format.\n",
        "\"\"\"\n",
        "\n",
        "question, answer = aq.generate(context, choose_from=1)\n",
        "\n",
        "print(f'Q: {question}')\n",
        "print(f'A: {answer}')"
      ]
    }
  ],
  "metadata": {
    "kernelspec": {
      "display_name": "trans",
      "language": "python",
      "name": "python3"
    },
    "language_info": {
      "codemirror_mode": {
        "name": "ipython",
        "version": 3
      },
      "file_extension": ".py",
      "mimetype": "text/x-python",
      "name": "python",
      "nbconvert_exporter": "python",
      "pygments_lexer": "ipython3",
      "version": "3.6.13"
    },
    "orig_nbformat": 4,
    "colab": {
      "provenance": [],
      "include_colab_link": true
    }
  },
  "nbformat": 4,
  "nbformat_minor": 0
}
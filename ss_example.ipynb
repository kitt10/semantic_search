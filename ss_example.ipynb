{
 "cells": [
  {
   "cell_type": "code",
   "execution_count": 1,
   "metadata": {},
   "outputs": [
    {
     "name": "stderr",
     "output_type": "stream",
     "text": [
      "/Users/kitt/miniconda3/envs/net/lib/python3.6/site-packages/tqdm/auto.py:22: TqdmWarning: IProgress not found. Please update jupyter and ipywidgets. See https://ipywidgets.readthedocs.io/en/stable/user_install.html\n",
      "  from .autonotebook import tqdm as notebook_tqdm\n"
     ]
    }
   ],
   "source": [
    "from models import SSModel\n",
    "\n",
    "ss = SSModel()"
   ]
  },
  {
   "cell_type": "code",
   "execution_count": 3,
   "metadata": {},
   "outputs": [
    {
     "name": "stdout",
     "output_type": "stream",
     "text": [
      "Q0: How many siblings do you have?\n",
      "\n",
      "[0.3885] How many brothers and sisters do you have?\n",
      "[0.7127] Do you have any brothers or sisters?\n",
      "[1.0081] What can you tell about your family?\n",
      "[1.1591] What was your mother's name?\n",
      "[1.2738] What did you have for lunch?\n"
     ]
    }
   ],
   "source": [
    "q0 = 'How many siblings do you have?'\n",
    "\n",
    "testing_questions = (\n",
    "    'How many brothers and sisters do you have?',\n",
    "    'Do you have any brothers or sisters?',\n",
    "    'What can you tell about your family?',\n",
    "    'What was your mother\\'s name?',\n",
    "    'What did you have for lunch?'\n",
    ")\n",
    "\n",
    "print(f'Q0: {q0}', end='\\n\\n')\n",
    "emb0 = ss.bert_model.encode(q0)\n",
    "for q in testing_questions:\n",
    "    emb = ss.bert_model.encode(q)\n",
    "    sim_score = str(ss.similarity(emb0, emb).round(4))\n",
    "    print(f'[{sim_score}] {q}')"
   ]
  }
 ],
 "metadata": {
  "kernelspec": {
   "display_name": "net",
   "language": "python",
   "name": "python3"
  },
  "language_info": {
   "codemirror_mode": {
    "name": "ipython",
    "version": 3
   },
   "file_extension": ".py",
   "mimetype": "text/x-python",
   "name": "python",
   "nbconvert_exporter": "python",
   "pygments_lexer": "ipython3",
   "version": "3.6.13"
  },
  "orig_nbformat": 4
 },
 "nbformat": 4,
 "nbformat_minor": 2
}

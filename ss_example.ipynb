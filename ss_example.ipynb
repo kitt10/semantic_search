{
  "cells": [
    {
      "cell_type": "markdown",
      "metadata": {
        "id": "view-in-github",
        "colab_type": "text"
      },
      "source": [
        "<a href=\"https://colab.research.google.com/github/kitt10/semantic_search/blob/main/ss_example.ipynb\" target=\"_parent\"><img src=\"https://colab.research.google.com/assets/colab-badge.svg\" alt=\"Open In Colab\"/></a>"
      ]
    },
    {
      "cell_type": "code",
      "execution_count": null,
      "metadata": {
        "id": "uIpMUnQWsijU"
      },
      "outputs": [],
      "source": [
        "from models import SSModel\n",
        "\n",
        "ss = SSModel()"
      ]
    },
    {
      "cell_type": "code",
      "execution_count": null,
      "metadata": {
        "id": "9JEC8wW5sijW",
        "outputId": "d37a79c7-adb4-4321-ac3e-9a910e5c8dc5"
      },
      "outputs": [
        {
          "name": "stdout",
          "output_type": "stream",
          "text": [
            "Q0: How many siblings do you have?\n",
            "\n",
            "[0.3885] How many brothers and sisters do you have?\n",
            "[0.7127] Do you have any brothers or sisters?\n",
            "[1.0081] What can you tell about your family?\n",
            "[1.1591] What was your mother's name?\n",
            "[1.2738] What did you have for lunch?\n"
          ]
        }
      ],
      "source": [
        "q0 = 'How many siblings do you have?'\n",
        "\n",
        "testing_questions = (\n",
        "    'How many brothers and sisters do you have?',\n",
        "    'Do you have any brothers or sisters?',\n",
        "    'What can you tell about your family?',\n",
        "    'What was your mother\\'s name?',\n",
        "    'What did you have for lunch?'\n",
        ")\n",
        "\n",
        "print(f'Q0: {q0}', end='\\n\\n')\n",
        "emb0 = ss.bert_model.encode(q0)\n",
        "for q in testing_questions:\n",
        "    emb = ss.bert_model.encode(q)\n",
        "    sim_score = str(ss.similarity(emb0, emb).round(4))\n",
        "    print(f'[{sim_score}] {q}')"
      ]
    }
  ],
  "metadata": {
    "kernelspec": {
      "display_name": "net",
      "language": "python",
      "name": "python3"
    },
    "language_info": {
      "codemirror_mode": {
        "name": "ipython",
        "version": 3
      },
      "file_extension": ".py",
      "mimetype": "text/x-python",
      "name": "python",
      "nbconvert_exporter": "python",
      "pygments_lexer": "ipython3",
      "version": "3.6.13"
    },
    "orig_nbformat": 4,
    "colab": {
      "provenance": [],
      "include_colab_link": true
    }
  },
  "nbformat": 4,
  "nbformat_minor": 0
}
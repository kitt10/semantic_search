{
  "cells": [
    {
      "cell_type": "markdown",
      "metadata": {
        "id": "view-in-github",
        "colab_type": "text"
      },
      "source": [
        "<a href=\"https://colab.research.google.com/github/kitt10/semantic_search/blob/main/sc_example.ipynb\" target=\"_parent\"><img src=\"https://colab.research.google.com/assets/colab-badge.svg\" alt=\"Open In Colab\"/></a>"
      ]
    },
    {
      "cell_type": "code",
      "execution_count": null,
      "metadata": {
        "id": "H5C6K7kFrqEP",
        "outputId": "9b5095b4-5176-4d3a-ed23-61eaf73c48fb"
      },
      "outputs": [
        {
          "name": "stderr",
          "output_type": "stream",
          "text": [
            "/Users/kitt/miniconda3/envs/net/lib/python3.6/site-packages/tqdm/auto.py:22: TqdmWarning: IProgress not found. Please update jupyter and ipywidgets. See https://ipywidgets.readthedocs.io/en/stable/user_install.html\n",
            "  from .autonotebook import tqdm as notebook_tqdm\n"
          ]
        },
        {
          "name": "stdout",
          "output_type": "stream",
          "text": [
            "WARNING:tensorflow:Compiled the loaded model, but the compiled metrics have yet to be built. `model.compile_metrics` will be empty until you train or evaluate the model.\n",
            "Models loaded.\n"
          ]
        }
      ],
      "source": [
        "from models import SCModel\n",
        "\n",
        "sc = SCModel()"
      ]
    },
    {
      "cell_type": "code",
      "execution_count": null,
      "metadata": {
        "id": "HfIoekdtrqER",
        "outputId": "6e14afc9-8ed3-4161-dae1-3240cac85b6e"
      },
      "outputs": [
        {
          "name": "stdout",
          "output_type": "stream",
          "text": [
            "Q: What did you have for lunch?\n",
            "\n",
            "[0.0305] For lunch we had some fish and chips.\n",
            "[0.0432] We did not eat at all.\n",
            "[0.4193] We visited the city center. Then we had fish and chips.\n",
            "[1.5441] We visited the city center. Then we had some lunch.\n",
            "[1.832] We've been to the North London Derby. Arsenal was fantastic.\n"
          ]
        }
      ],
      "source": [
        "q = 'What did you have for lunch?'\n",
        "\n",
        "following = (\n",
        "    'For lunch we had some fish and chips.',\n",
        "    'We did not eat at all.',\n",
        "    'We visited the city center. Then we had fish and chips.',\n",
        "    'We visited the city center. Then we had some lunch.',\n",
        "    'We\\'ve been to the North London Derby. Arsenal was fantastic.'\n",
        ")\n",
        "\n",
        "print(f'Q: {q}', end='\\n\\n')\n",
        "for context in following:\n",
        "    dist = sc.score(q, context)\n",
        "    print(f'[{round(dist, 4)}] {context}')"
      ]
    }
  ],
  "metadata": {
    "kernelspec": {
      "display_name": "net",
      "language": "python",
      "name": "python3"
    },
    "language_info": {
      "codemirror_mode": {
        "name": "ipython",
        "version": 3
      },
      "file_extension": ".py",
      "mimetype": "text/x-python",
      "name": "python",
      "nbconvert_exporter": "python",
      "pygments_lexer": "ipython3",
      "version": "3.6.13"
    },
    "orig_nbformat": 4,
    "colab": {
      "provenance": [],
      "include_colab_link": true
    }
  },
  "nbformat": 4,
  "nbformat_minor": 0
}
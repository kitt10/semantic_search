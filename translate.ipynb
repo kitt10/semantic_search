{
 "cells": [
  {
   "cell_type": "code",
   "execution_count": 1,
   "metadata": {},
   "outputs": [
    {
     "name": "stdout",
     "output_type": "stream",
     "text": [
      "What was your father's name?\n"
     ]
    }
   ],
   "source": [
    "from requests import post\n",
    "\n",
    "def translate(text, src='cs', tgt='en'):\n",
    "    translator_url = f'https://lindat.cz/services/translation/api/v2/languages/?src={src}&tgt={tgt}'\n",
    "    ret = post(translator_url, data = {'input_text': text})\n",
    "    return ret.content.decode('utf-8').strip()\n",
    "\n",
    "ret = translate('Jak se jmenoval váš otec?')\n",
    "print(ret)"
   ]
  },
  {
   "cell_type": "code",
   "execution_count": 3,
   "metadata": {},
   "outputs": [
    {
     "name": "stdout",
     "output_type": "stream",
     "text": [
      "What was your father's name?\n"
     ]
    }
   ],
   "source": [
    "ret = translate('Jak se jmenoval váš otec?')\n",
    "\n",
    "print(ret)"
   ]
  }
 ],
 "metadata": {
  "kernelspec": {
   "display_name": "net",
   "language": "python",
   "name": "python3"
  },
  "language_info": {
   "codemirror_mode": {
    "name": "ipython",
    "version": 3
   },
   "file_extension": ".py",
   "mimetype": "text/x-python",
   "name": "python",
   "nbconvert_exporter": "python",
   "pygments_lexer": "ipython3",
   "version": "3.6.13"
  },
  "orig_nbformat": 4
 },
 "nbformat": 4,
 "nbformat_minor": 2
}
